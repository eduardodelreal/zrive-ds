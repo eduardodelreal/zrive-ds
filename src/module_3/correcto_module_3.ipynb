{
 "cells": [
  {
   "cell_type": "code",
   "execution_count": 1,
   "metadata": {},
   "outputs": [
    {
     "name": "stderr",
     "output_type": "stream",
     "text": [
      "2024-02-13 15:28:44,786 - INFO - Las primeras filas del DataFrame son:\n",
      "       variant_id     product_type       order_id        user_id           created_at           order_date  user_order_seq  outcome  ordered_before  abandoned_before  active_snoozed  set_as_regular  normalised_price  discount_pct       vendor  global_popularity  count_adults  count_children  count_babies  count_pets  people_ex_baby  days_since_purchase_variant_id  avg_days_to_buy_variant_id  std_days_to_buy_variant_id  days_since_purchase_product_type  avg_days_to_buy_product_type  std_days_to_buy_product_type\n",
      "0  33826472919172  ricepastapulses  2807985930372  3482464092292  2020-10-05 16:46:19  2020-10-05 00:00:00               3      0.0             0.0               0.0             0.0             0.0          0.081052      0.053512  clearspring           0.000000           2.0             0.0           0.0         0.0             2.0                            33.0                        42.0                   31.134053                              30.0                          30.0                      24.27618\n",
      "1  33826472919172  ricepastapulses  2808027644036  3466586718340  2020-10-05 17:59:51  2020-10-05 00:00:00               2      0.0             0.0               0.0             0.0             0.0          0.081052      0.053512  clearspring           0.000000           2.0             0.0           0.0         0.0             2.0                            33.0                        42.0                   31.134053                              30.0                          30.0                      24.27618\n",
      "2  33826472919172  ricepastapulses  2808099078276  3481384026244  2020-10-05 20:08:53  2020-10-05 00:00:00               4      0.0             0.0               0.0             0.0             0.0          0.081052      0.053512  clearspring           0.000000           2.0             0.0           0.0         0.0             2.0                            33.0                        42.0                   31.134053                              30.0                          30.0                      24.27618\n",
      "3  33826472919172  ricepastapulses  2808393957508  3291363377284  2020-10-06 08:57:59  2020-10-06 00:00:00               2      0.0             0.0               0.0             0.0             0.0          0.081052      0.053512  clearspring           0.038462           2.0             0.0           0.0         0.0             2.0                            33.0                        42.0                   31.134053                              30.0                          30.0                      24.27618\n",
      "4  33826472919172  ricepastapulses  2808429314180  3537167515780  2020-10-06 10:37:05  2020-10-06 00:00:00               3      0.0             0.0               0.0             0.0             0.0          0.081052      0.053512  clearspring           0.038462           2.0             0.0           0.0         0.0             2.0                            33.0                        42.0                   31.134053                              30.0                          30.0                      24.27618\n",
      "2024-02-13 15:28:45,046 - INFO - Las primeras filas del DataFrame filtrado  son:\n",
      "       variant_id     product_type       order_id        user_id           created_at           order_date  user_order_seq  outcome  ordered_before  abandoned_before  active_snoozed  set_as_regular  normalised_price  discount_pct       vendor  global_popularity  count_adults  count_children  count_babies  count_pets  people_ex_baby  days_since_purchase_variant_id  avg_days_to_buy_variant_id  std_days_to_buy_variant_id  days_since_purchase_product_type  avg_days_to_buy_product_type  std_days_to_buy_product_type\n",
      "0  33826472919172  ricepastapulses  2807985930372  3482464092292  2020-10-05 16:46:19  2020-10-05 00:00:00               3      0.0             0.0               0.0             0.0             0.0          0.081052      0.053512  clearspring           0.000000           2.0             0.0           0.0         0.0             2.0                            33.0                        42.0                   31.134053                              30.0                          30.0                      24.27618\n",
      "1  33826472919172  ricepastapulses  2808027644036  3466586718340  2020-10-05 17:59:51  2020-10-05 00:00:00               2      0.0             0.0               0.0             0.0             0.0          0.081052      0.053512  clearspring           0.000000           2.0             0.0           0.0         0.0             2.0                            33.0                        42.0                   31.134053                              30.0                          30.0                      24.27618\n",
      "2  33826472919172  ricepastapulses  2808099078276  3481384026244  2020-10-05 20:08:53  2020-10-05 00:00:00               4      0.0             0.0               0.0             0.0             0.0          0.081052      0.053512  clearspring           0.000000           2.0             0.0           0.0         0.0             2.0                            33.0                        42.0                   31.134053                              30.0                          30.0                      24.27618\n",
      "3  33826472919172  ricepastapulses  2808393957508  3291363377284  2020-10-06 08:57:59  2020-10-06 00:00:00               2      0.0             0.0               0.0             0.0             0.0          0.081052      0.053512  clearspring           0.038462           2.0             0.0           0.0         0.0             2.0                            33.0                        42.0                   31.134053                              30.0                          30.0                      24.27618\n",
      "4  33826472919172  ricepastapulses  2808429314180  3537167515780  2020-10-06 10:37:05  2020-10-06 00:00:00               3      0.0             0.0               0.0             0.0             0.0          0.081052      0.053512  clearspring           0.038462           2.0             0.0           0.0         0.0             2.0                            33.0                        42.0                   31.134053                              30.0                          30.0                      24.27618\n"
     ]
    },
    {
     "name": "stdout",
     "output_type": "stream",
     "text": [
      "Número de filas: 2880549\n",
      "Número de filas: 297661\n"
     ]
    }
   ],
   "source": [
    "import logging\n",
    "import pandas as pd\n",
    "from datetime import datetime\n",
    "import matplotlib.pyplot as plt\n",
    "import seaborn as sns\n",
    "import numpy as np\n",
    "\n",
    "data=pd.read_csv(\"feature_frames.csv\")\n",
    "logging.basicConfig(level=logging.INFO, format='%(asctime)s - %(levelname)s - %(message)s')\n",
    "logging.info(\"Las primeras filas del DataFrame son:\\n%s\", data.head().to_string())\n",
    "\n",
    "# Agrupa por 'order_id' y calcula el tamaño de cada grupo\n",
    "order_sizes = data.groupby('order_id').size()\n",
    "\n",
    "# Filtra los 'order_id' que tienen 5 o más productos pedidos\n",
    "orders_with_5_or_more_products = order_sizes[order_sizes >= 5].index\n",
    "\n",
    "# Filtra el DataFrame original para obtener solo las filas que pertenecen a esos 'order_id'\n",
    "filtered_data = data[data['order_id'].isin(orders_with_5_or_more_products)]\n",
    "\n",
    "# Muestra el resultado\n",
    "logging.info(\"Las primeras filas del DataFrame filtrado  son:\\n%s\", filtered_data.head().to_string())\n",
    "\n",
    "num_filas = data.shape[0]  # Esto te dará el número de filas\n",
    "print(\"Número de filas:\", num_filas)\n",
    "filtered_data = data[data['user_order_seq'] > 5]\n",
    "num_filas2 = filtered_data.shape[0]  # Esto te dará el número de filas\n",
    "print(\"Número de filas:\", num_filas2)"
   ]
  }
 ],
 "metadata": {
  "kernelspec": {
   "display_name": "zrive-ds-_MSORb09-py3.11",
   "language": "python",
   "name": "python3"
  },
  "language_info": {
   "codemirror_mode": {
    "name": "ipython",
    "version": 3
   },
   "file_extension": ".py",
   "mimetype": "text/x-python",
   "name": "python",
   "nbconvert_exporter": "python",
   "pygments_lexer": "ipython3",
   "version": "3.11.0"
  }
 },
 "nbformat": 4,
 "nbformat_minor": 2
}
