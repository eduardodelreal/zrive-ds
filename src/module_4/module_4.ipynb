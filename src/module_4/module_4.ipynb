{
 "cells": [
  {
   "cell_type": "code",
   "execution_count": 18,
   "metadata": {},
   "outputs": [
    {
     "name": "stderr",
     "output_type": "stream",
     "text": [
      "2024-02-15 15:21:23,990 - INFO - X first rows:\n",
      "    user_order_seq  ordered_before  abandoned_before  active_snoozed  set_as_regular  normalised_price  discount_pct  global_popularity  count_adults  count_children  count_babies  count_pets  people_ex_baby  days_since_purchase_variant_id  avg_days_to_buy_variant_id  std_days_to_buy_variant_id  days_since_purchase_product_type  avg_days_to_buy_product_type  std_days_to_buy_product_type  season  day_of_week  is_weekend  hour_of_day  product_type_freq  vendor_freq  day_of_week  is_weekend  hour_of_day\n",
      "7               13               0                 0               0               0          0.081052      0.053512           0.038462           2.0             0.0           0.0         0.0             2.0                            33.0                        42.0                   31.134053                              30.0                          30.0                      24.27618       4            1           0            0              13241         4284            1           0            0\n",
      "12              14               0                 0               0               0          0.081052      0.053512           0.026316           2.0             0.0           0.0         0.0             2.0                            33.0                        42.0                   31.134053                              30.0                          30.0                      24.27618       4            2           0            0              13241         4284            2           0            0\n",
      "13              15               0                 0               0               0          0.081052      0.053512           0.026316           2.0             0.0           0.0         0.0             2.0                            33.0                        42.0                   31.134053                              30.0                          30.0                      24.27618       4            2           0            0              13241         4284            2           0            0\n",
      "17               9               0                 0               0               0          0.081052      0.053512           0.026316           2.0             0.0           0.0         0.0             2.0                            33.0                        42.0                   31.134053                              30.0                          30.0                      24.27618       4            2           0            0              13241         4284            2           0            0\n",
      "27               6               0                 0               0               0          0.081052      0.053512           0.039683           2.0             0.0           0.0         0.0             2.0                            33.0                        42.0                   31.134053                              30.0                          30.0                      24.27618       4            3           0            0              13241         4284            3           0            0\n"
     ]
    }
   ],
   "source": [
    "import logging\n",
    "import pandas as pd\n",
    "from datetime import datetime\n",
    "import matplotlib.pyplot as plt\n",
    "import seaborn as sns\n",
    "import numpy as np\n",
    "from sklearn.model_selection import train_test_split\n",
    "\n",
    "data=pd.read_csv(\"feature_frames.csv\")\n",
    "logging.basicConfig(level=logging.INFO, format='%(asctime)s - %(levelname)s - %(message)s')\n",
    "order_sizes = data.groupby('order_id').size()\n",
    "orders_with_5_or_more_products = order_sizes[order_sizes >= 5].index\n",
    "filtered_data = data[data['order_id'].isin(orders_with_5_or_more_products)]\n",
    "filtered_data = data[data['user_order_seq'] > 5]\n",
    "df = pd.DataFrame(filtered_data)\n",
    "df['created_at'] = pd.to_datetime(df['created_at'])\n",
    "df['order_date'] = pd.to_datetime(df['order_date'])\n",
    "\n",
    "def get_season(month):\n",
    "    if month in [12, 1, 2]:\n",
    "        return 1  # winter\n",
    "    elif month in [3, 4, 5]:\n",
    "        return 2  # spring\n",
    "    elif month in [6, 7, 8]:\n",
    "        return 3  # summer\n",
    "    else:\n",
    "        return 4  # Outumn\n",
    "\n",
    "\n",
    "df['season'] = df['order_date'].dt.month.apply(get_season)\n",
    "df['day_of_week'] = df['order_date'].dt.dayofweek\n",
    "df['is_weekend'] = df['order_date'].dt.dayofweek >= 5\n",
    "df['hour_of_day'] = df['order_date'].dt.hour\n",
    "variables_categoricas = ['product_type', 'vendor']\n",
    "variables_binarias = ['ordered_before', 'abandoned_before', 'active_snoozed', 'set_as_regular','is_weekend']\n",
    "\n",
    "for columna in variables_categoricas:\n",
    "    frecuencias = df[columna].value_counts().to_dict()\n",
    "    df[columna + '_freq'] = df[columna].map(frecuencias)\n",
    "\n",
    "for columna in variables_binarias:\n",
    "    df[columna] = df[columna].astype(int)\n",
    "\n",
    "X = df.drop(['variant_id', 'order_id', 'user_id', 'product_type','vendor','created_at', 'order_date', 'outcome'], axis=1)\n",
    "X = pd.concat([X, df[['day_of_week', 'is_weekend', 'hour_of_day']]], axis=1)\n",
    "y = df['outcome']\n",
    "\n",
    "logging.info(\"X first rows:\\n%s\", X.head().to_string())\n",
    "   \n",
    "\n",
    "\n",
    "\n",
    "\n",
    "\n"
   ]
  }
 ],
 "metadata": {
  "kernelspec": {
   "display_name": "zrive-ds-_MSORb09-py3.11",
   "language": "python",
   "name": "python3"
  },
  "language_info": {
   "codemirror_mode": {
    "name": "ipython",
    "version": 3
   },
   "file_extension": ".py",
   "mimetype": "text/x-python",
   "name": "python",
   "nbconvert_exporter": "python",
   "pygments_lexer": "ipython3",
   "version": "3.11.0"
  }
 },
 "nbformat": 4,
 "nbformat_minor": 2
}
